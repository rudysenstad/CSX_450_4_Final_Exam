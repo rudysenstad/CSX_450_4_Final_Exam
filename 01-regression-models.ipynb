{
 "cells": [
  {
   "cell_type": "markdown",
   "metadata": {},
   "source": [
    "# Final Project\n",
    "\n",
    "## Model Fitting on the Ames, Iowa Dataset\n",
    "\n",
    "1. fit a regression model using default settings with each of the following kinds of models:\n",
    "\n",
    "   - ridge regression\n",
    "   - lasso regression\n",
    "   - knn\n",
    "   - decision tree\n",
    "   - support vector machines\n",
    "\n",
    "2. Report your results. Discuss what your results tell you in terms of the underlying structure of the data. Remember that you can think about the ridge and lasso in terms of linearity, the decision tree and knn in terms of non-linearity, and knn and svm in terms of locality."
   ]
  },
  {
   "cell_type": "code",
   "execution_count": 1,
   "metadata": {},
   "outputs": [],
   "source": [
    "run src/load_data.py"
   ]
  },
  {
   "cell_type": "code",
   "execution_count": 2,
   "metadata": {},
   "outputs": [],
   "source": [
    "# import models\n",
    "from sklearn.linear_model import Ridge, Lasso\n",
    "from sklearn.neighbors import KNeighborsRegressor\n",
    "from sklearn.tree import DecisionTreeRegressor\n",
    "from sklearn.svm import SVR\n",
    "# import ML tools\n",
    "from sklearn.metrics import mean_squared_error\n",
    "from sklearn.model_selection import train_test_split\n",
    "from tqdm import tqdm \n",
    "from time import time\n",
    "\n",
    "import matplotlib\n",
    "import matplotlib.pyplot as plt\n",
    "import seaborn as sns\n",
    "\n",
    "matplotlib.rcParams.update({'font.size': 14})\n",
    "%matplotlib inline"
   ]
  },
  {
   "cell_type": "markdown",
   "metadata": {},
   "source": [
    "### Split training and test sets and perform feature engineering on each set separately "
   ]
  },
  {
   "cell_type": "code",
   "execution_count": 3,
   "metadata": {},
   "outputs": [],
   "source": [
    "labels = housing_df['SalePrice']\n",
    "X_train, X_test, y_train, y_test = train_test_split(housing_df, labels, random_state=42)"
   ]
  },
  {
   "cell_type": "code",
   "execution_count": 4,
   "metadata": {},
   "outputs": [
    {
     "name": "stderr",
     "output_type": "stream",
     "text": [
      "C:\\Users\\rudy_senstad\\AppData\\Local\\Continuum\\anaconda3\\envs\\xgboost\\lib\\site-packages\\pandas\\core\\generic.py:4355: SettingWithCopyWarning: \n",
      "A value is trying to be set on a copy of a slice from a DataFrame\n",
      "\n",
      "See the caveats in the documentation: http://pandas.pydata.org/pandas-docs/stable/indexing.html#indexing-view-versus-copy\n",
      "  self._update_inplace(new_data)\n",
      "C:\\Users\\rudy_senstad\\AnacondaProjects\\CSX_450_4_Final_Exam\\src\\load_data.py:46: SettingWithCopyWarning: \n",
      "A value is trying to be set on a copy of a slice from a DataFrame\n",
      "\n",
      "See the caveats in the documentation: http://pandas.pydata.org/pandas-docs/stable/indexing.html#indexing-view-versus-copy\n",
      "  df.dropna(inplace=True)\n"
     ]
    }
   ],
   "source": [
    "X_train = process_na_vals(X_train)\n",
    "X_test = process_na_vals(X_test)\n",
    "y_train = X_train['SalePrice']\n",
    "X_train.drop(['SalePrice'], axis=1, inplace=True)\n",
    "y_test = X_test['SalePrice']\n",
    "X_test.drop(['SalePrice'], axis=1, inplace=True)"
   ]
  },
  {
   "cell_type": "code",
   "execution_count": 5,
   "metadata": {},
   "outputs": [],
   "source": [
    "def run_model(model, model_name, X_train, y_train, X_test, y_test):\n",
    "    _ = model.fit(X_train, y_train)\n",
    "    train_pred = model.predict(X_train)\n",
    "    test_pred = model.predict(X_test)   \n",
    "    return {\n",
    "            'model_name' : model_name,\n",
    "            'mse_train_score' : mean_squared_error(y_train, train_pred),\n",
    "            'mse_test_score' : mean_squared_error(y_test, test_pred),\n",
    "            'r2_train_score' : model.score(X_train, y_train),\n",
    "            'r2_test_score' : model.score(X_test, y_test)}"
   ]
  },
  {
   "cell_type": "code",
   "execution_count": 6,
   "metadata": {},
   "outputs": [
    {
     "name": "stderr",
     "output_type": "stream",
     "text": [
      "  0%|                                                                                            | 0/7 [00:00<?, ?it/s]C:\\Users\\rudy_senstad\\AppData\\Local\\Continuum\\anaconda3\\envs\\xgboost\\lib\\site-packages\\sklearn\\linear_model\\coordinate_descent.py:491: ConvergenceWarning: Objective did not converge. You might want to increase the number of iterations. Fitting data with very small alpha may cause precision problems.\n",
      "  ConvergenceWarning)\n",
      "100%|████████████████████████████████████████████████████████████████████████████████████| 7/7 [00:20<00:00,  2.92s/it]\n"
     ]
    }
   ],
   "source": [
    "test_results = {}\n",
    "models = {\n",
    "    'Ridge' : Ridge(),\n",
    "    'Lasso' : Lasso(),\n",
    "    'K Nearest Neighbors' : KNeighborsRegressor(),\n",
    "    'Decision Tree' : DecisionTreeRegressor(),\n",
    "    'SVM - RBF' : SVR(),\n",
    "    'SVM - Linear' : SVR(kernel ='linear'),\n",
    "    'SVM - Sigmoid' : SVR(kernel ='sigmoid')\n",
    "}\n",
    "model_names = models.keys()\n",
    "for name in tqdm(model_names):\n",
    "    test_results[name] = run_model(models[name], name,\n",
    "                                   X_train, y_train, \n",
    "                                   X_test, y_test)"
   ]
  },
  {
   "cell_type": "code",
   "execution_count": 7,
   "metadata": {},
   "outputs": [
    {
     "data": {
      "text/html": [
       "<div>\n",
       "<style scoped>\n",
       "    .dataframe tbody tr th:only-of-type {\n",
       "        vertical-align: middle;\n",
       "    }\n",
       "\n",
       "    .dataframe tbody tr th {\n",
       "        vertical-align: top;\n",
       "    }\n",
       "\n",
       "    .dataframe thead th {\n",
       "        text-align: right;\n",
       "    }\n",
       "</style>\n",
       "<table border=\"1\" class=\"dataframe\">\n",
       "  <thead>\n",
       "    <tr style=\"text-align: right;\">\n",
       "      <th></th>\n",
       "      <th>model_name</th>\n",
       "      <th>mse_test_score</th>\n",
       "      <th>mse_train_score</th>\n",
       "      <th>r2_test_score</th>\n",
       "      <th>r2_train_score</th>\n",
       "    </tr>\n",
       "  </thead>\n",
       "  <tbody>\n",
       "    <tr>\n",
       "      <th>Decision Tree</th>\n",
       "      <td>Decision Tree</td>\n",
       "      <td>1.25223e+09</td>\n",
       "      <td>0</td>\n",
       "      <td>0.817283</td>\n",
       "      <td>1</td>\n",
       "    </tr>\n",
       "    <tr>\n",
       "      <th>K Nearest Neighbors</th>\n",
       "      <td>K Nearest Neighbors</td>\n",
       "      <td>2.03852e+09</td>\n",
       "      <td>1.53031e+09</td>\n",
       "      <td>0.702551</td>\n",
       "      <td>0.748897</td>\n",
       "    </tr>\n",
       "    <tr>\n",
       "      <th>Lasso</th>\n",
       "      <td>Lasso</td>\n",
       "      <td>7.98876e+08</td>\n",
       "      <td>3.12696e+08</td>\n",
       "      <td>0.883433</td>\n",
       "      <td>0.948691</td>\n",
       "    </tr>\n",
       "    <tr>\n",
       "      <th>Ridge</th>\n",
       "      <td>Ridge</td>\n",
       "      <td>7.97136e+08</td>\n",
       "      <td>3.95311e+08</td>\n",
       "      <td>0.883687</td>\n",
       "      <td>0.935135</td>\n",
       "    </tr>\n",
       "    <tr>\n",
       "      <th>SVM - Linear</th>\n",
       "      <td>SVM - Linear</td>\n",
       "      <td>1.37397e+09</td>\n",
       "      <td>1.74123e+09</td>\n",
       "      <td>0.799518</td>\n",
       "      <td>0.714287</td>\n",
       "    </tr>\n",
       "    <tr>\n",
       "      <th>SVM - RBF</th>\n",
       "      <td>SVM - RBF</td>\n",
       "      <td>7.01381e+09</td>\n",
       "      <td>6.36994e+09</td>\n",
       "      <td>-0.0234115</td>\n",
       "      <td>-0.0452219</td>\n",
       "    </tr>\n",
       "    <tr>\n",
       "      <th>SVM - Sigmoid</th>\n",
       "      <td>SVM - Sigmoid</td>\n",
       "      <td>7.01379e+09</td>\n",
       "      <td>6.37003e+09</td>\n",
       "      <td>-0.0234094</td>\n",
       "      <td>-0.0452368</td>\n",
       "    </tr>\n",
       "  </tbody>\n",
       "</table>\n",
       "</div>"
      ],
      "text/plain": [
       "                              model_name mse_test_score mse_train_score  \\\n",
       "Decision Tree              Decision Tree    1.25223e+09               0   \n",
       "K Nearest Neighbors  K Nearest Neighbors    2.03852e+09     1.53031e+09   \n",
       "Lasso                              Lasso    7.98876e+08     3.12696e+08   \n",
       "Ridge                              Ridge    7.97136e+08     3.95311e+08   \n",
       "SVM - Linear                SVM - Linear    1.37397e+09     1.74123e+09   \n",
       "SVM - RBF                      SVM - RBF    7.01381e+09     6.36994e+09   \n",
       "SVM - Sigmoid              SVM - Sigmoid    7.01379e+09     6.37003e+09   \n",
       "\n",
       "                    r2_test_score r2_train_score  \n",
       "Decision Tree            0.817283              1  \n",
       "K Nearest Neighbors      0.702551       0.748897  \n",
       "Lasso                    0.883433       0.948691  \n",
       "Ridge                    0.883687       0.935135  \n",
       "SVM - Linear             0.799518       0.714287  \n",
       "SVM - RBF              -0.0234115     -0.0452219  \n",
       "SVM - Sigmoid          -0.0234094     -0.0452368  "
      ]
     },
     "execution_count": 7,
     "metadata": {},
     "output_type": "execute_result"
    }
   ],
   "source": [
    "test_results = pd.DataFrame(test_results).T\n",
    "test_results"
   ]
  },
  {
   "cell_type": "markdown",
   "metadata": {},
   "source": [
    "# MSE Score"
   ]
  },
  {
   "cell_type": "code",
   "execution_count": 8,
   "metadata": {},
   "outputs": [
    {
     "data": {
      "text/plain": [
       "<matplotlib.legend.Legend at 0x2c235137b00>"
      ]
     },
     "execution_count": 8,
     "metadata": {},
     "output_type": "execute_result"
    },
    {
     "data": {
      "image/png": "[encoded data removed]",
      "text/plain": [
       "<Figure size 1440x720 with 2 Axes>"
      ]
     },
     "metadata": {},
     "output_type": "display_data"
    }
   ],
   "source": [
    "plt.figure(figsize=(20,10)) \n",
    "ax1 = plt.subplot2grid((1,2), (0,0))\n",
    "plt.xticks(rotation='vertical')\n",
    "plt.bar(test_results.model_name, test_results.mse_train_score, label='train performance')\n",
    "plt.legend()\n",
    "\n",
    "ax2 = plt.subplot2grid((1,2), (0,1))\n",
    "plt.xticks(rotation='vertical')\n",
    "plt.bar(test_results.model_name, test_results.mse_test_score, label='test performance')\n",
    "plt.legend()"
   ]
  },
  {
   "cell_type": "markdown",
   "metadata": {},
   "source": [
    "# R2 Score of Models"
   ]
  },
  {
   "cell_type": "code",
   "execution_count": 9,
   "metadata": {},
   "outputs": [
    {
     "data": {
      "text/plain": [
       "<matplotlib.legend.Legend at 0x2c23582e240>"
      ]
     },
     "execution_count": 9,
     "metadata": {},
     "output_type": "execute_result"
    },
    {
     "data": {
      "image/png": "[encoded data removed]",
      "text/plain": [
       "<Figure size 1440x720 with 2 Axes>"
      ]
     },
     "metadata": {},
     "output_type": "display_data"
    }
   ],
   "source": [
    "plt.figure(figsize=(20,10)) \n",
    "ax1 = plt.subplot2grid((1,2), (0,0))\n",
    "plt.xticks(rotation='vertical')\n",
    "plt.ylim(-0.1, 1.1)\n",
    "plt.bar(test_results.model_name, test_results.r2_train_score, label='train performance')\n",
    "plt.legend()\n",
    "\n",
    "ax2 = plt.subplot2grid((1,2), (0,1))\n",
    "plt.xticks(rotation='vertical')\n",
    "plt.ylim(-0.1, 1.1)\n",
    "plt.bar(test_results.model_name, test_results.r2_test_score, label='test performance')\n",
    "plt.legend()"
   ]
  },
  {
   "cell_type": "markdown",
   "metadata": {},
   "source": [
    "# Data Structure"
   ]
  },
  {
   "cell_type": "markdown",
   "metadata": {},
   "source": [
    "I have trained 7 different regression models which have performed differently on the train and test data.\n",
    "\n",
    "1. The decision tree regressor overfitted on the train set but still performed ok on the test set.\n",
    "2. The KNN regressor performed similarly on the test and train sets, which shows that data has some locality.\n",
    "3. The Lasso regressor has the best R2 score on both the train and test sets.\n",
    "4. The Ridge regressor has similar performance as the Lasso regressor, but has a slightly less R2 score on the train set. It is interesting that it still performs just as well on the test set as the Lasso even though the training set performance is less. This shows that the model still generalizes well and *could be* underfitting.\n",
    "5. SVM regressors can be thought of in terms of locality as well as linearity depending on the kernel. The non-linear SVM models have the worst R2 and Mean-Squared-Error.\n",
    "\n",
    "In conclusion, based on the performance of the non-linear models compared to the linear models on the train set, the feature space is linearly correlated with target, \"SalePrice\". Based on the model performances against the test set, the Lasso and Ridge generalized the best."
   ]
  }
 ],
 "metadata": {
  "kernelspec": {
   "display_name": "Python [conda env:xgboost]",
   "language": "python",
   "name": "conda-env-xgboost-py"
  },
  "language_info": {
   "codemirror_mode": {
    "name": "ipython",
    "version": 3
   },
   "file_extension": ".py",
   "mimetype": "text/x-python",
   "name": "python",
   "nbconvert_exporter": "python",
   "pygments_lexer": "ipython3",
   "version": "3.6.4"
  }
 },
 "nbformat": 4,
 "nbformat_minor": 2
}
