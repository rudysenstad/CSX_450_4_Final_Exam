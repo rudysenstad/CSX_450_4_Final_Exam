{
 "cells": [
  {
   "cell_type": "markdown",
   "metadata": {},
   "source": [
    "# Final Project\n",
    "\n",
    "## Model Fitting on the Ames, Iowa Dataset\n",
    "\n",
    "3. Use a cross-validated grid search to refine three of the above models."
   ]
  },
  {
   "cell_type": "code",
   "execution_count": 1,
   "metadata": {},
   "outputs": [],
   "source": [
    "run ../src/load_data.py"
   ]
  },
  {
   "cell_type": "code",
   "execution_count": 2,
   "metadata": {},
   "outputs": [],
   "source": [
    "# import models\n",
    "from sklearn.linear_model import Ridge, Lasso\n",
    "from sklearn.neighbors import KNeighborsRegressor\n",
    "from sklearn.tree import DecisionTreeRegressor\n",
    "from sklearn.svm import SVR\n",
    "\n",
    "# import ML tools\n",
    "from sklearn.model_selection import GridSearchCV\n",
    "from sklearn.model_selection import train_test_split\n",
    "from tqdm import tqdm \n",
    "from time import time\n",
    "\n",
    "import matplotlib\n",
    "import matplotlib.pyplot as plt\n",
    "import seaborn as sns\n",
    "\n",
    "import warnings\n",
    "warnings.filterwarnings('ignore')\n",
    "\n",
    "matplotlib.rcParams.update({'font.size': 14})\n",
    "%matplotlib inline"
   ]
  },
  {
   "cell_type": "markdown",
   "metadata": {},
   "source": [
    "### Split training and test sets and perform feature engineering on each set separately "
   ]
  },
  {
   "cell_type": "code",
   "execution_count": 3,
   "metadata": {},
   "outputs": [],
   "source": [
    "labels = housing_df['SalePrice']\n",
    "X_train, X_test, y_train, y_test = train_test_split(housing_df, labels, random_state=42)\n",
    "X_train = process_na_vals(X_train)\n",
    "X_test = process_na_vals(X_test)\n",
    "y_train = X_train['SalePrice']\n",
    "X_train.drop(['SalePrice'], axis=1, inplace=True)\n",
    "y_test = X_test['SalePrice']\n",
    "X_test.drop(['SalePrice'], axis=1, inplace=True)"
   ]
  },
  {
   "cell_type": "code",
   "execution_count": 4,
   "metadata": {},
   "outputs": [],
   "source": [
    "alpha = [0.1**i for i in range(1, 20)]\n",
    "alpha.extend(range(1, 500, 20))\n",
    "models_params = {\n",
    "    'Ridge': {'alpha': alpha},\n",
    "    'Lasso': {'alpha': alpha},\n",
    "    'KNN': {'n_neighbors': range(1,10)},\n",
    "    'DecisionTree' : {'max_depth': [1,5]},\n",
    "    'LinearSVM' : {'C': range(1,5)},\n",
    "}"
   ]
  },
  {
   "cell_type": "code",
   "execution_count": 5,
   "metadata": {},
   "outputs": [],
   "source": [
    "def run_gridsearch(model, model_name, X_train, y_train, X_test, y_test):\n",
    "    _ = model.fit(X_train, y_train)\n",
    "    reg_params = models_params[model_name]\n",
    "    model_gs = GridSearchCV(model, \n",
    "                      param_grid= reg_params,\n",
    "                      cv=5,\n",
    "                      return_train_score=True)\n",
    "    model_gs.fit(X_train, y_train)\n",
    "    return {\n",
    "        'model_name' : model_name,\n",
    "        'model_best_params' : model_gs.best_params_,\n",
    "        'model_train_score' : model_gs.best_score_,\n",
    "        'model_test_score' : model_gs.score(X_test, y_test)\n",
    "    }\n"
   ]
  },
  {
   "cell_type": "code",
   "execution_count": 6,
   "metadata": {
    "scrolled": false
   },
   "outputs": [
    {
     "name": "stderr",
     "output_type": "stream",
     "text": [
      "100%|███████████████████████████████████████████████████████████████████████████████████| 5/5 [17:48<00:00, 213.76s/it]\n"
     ]
    }
   ],
   "source": [
    "test_results = {}\n",
    "models = {\n",
    "    'Ridge' : Ridge(),\n",
    "    'Lasso' : Lasso(),\n",
    "    'KNN' : KNeighborsRegressor(),\n",
    "    'DecisionTree' : DecisionTreeRegressor(),\n",
    "    'LinearSVM' : SVR(kernel ='linear')\n",
    "}\n",
    "model_names = models.keys()\n",
    "for name in tqdm(model_names):\n",
    "    test_results[name] = run_gridsearch(models[name], name,\n",
    "                                        X_train, y_train,\n",
    "                                        X_test, y_test)"
   ]
  },
  {
   "cell_type": "code",
   "execution_count": 7,
   "metadata": {},
   "outputs": [
    {
     "data": {
      "text/html": [
       "<div>\n",
       "<style scoped>\n",
       "    .dataframe tbody tr th:only-of-type {\n",
       "        vertical-align: middle;\n",
       "    }\n",
       "\n",
       "    .dataframe tbody tr th {\n",
       "        vertical-align: top;\n",
       "    }\n",
       "\n",
       "    .dataframe thead th {\n",
       "        text-align: right;\n",
       "    }\n",
       "</style>\n",
       "<table border=\"1\" class=\"dataframe\">\n",
       "  <thead>\n",
       "    <tr style=\"text-align: right;\">\n",
       "      <th></th>\n",
       "      <th>model_best_params</th>\n",
       "      <th>model_name</th>\n",
       "      <th>model_test_score</th>\n",
       "      <th>model_train_score</th>\n",
       "    </tr>\n",
       "  </thead>\n",
       "  <tbody>\n",
       "    <tr>\n",
       "      <th>DecisionTree</th>\n",
       "      <td>{'max_depth': 5}</td>\n",
       "      <td>DecisionTree</td>\n",
       "      <td>0.793846</td>\n",
       "      <td>0.650096</td>\n",
       "    </tr>\n",
       "    <tr>\n",
       "      <th>KNN</th>\n",
       "      <td>{'n_neighbors': 5}</td>\n",
       "      <td>KNN</td>\n",
       "      <td>0.702551</td>\n",
       "      <td>0.627463</td>\n",
       "    </tr>\n",
       "    <tr>\n",
       "      <th>Lasso</th>\n",
       "      <td>{'alpha': 141}</td>\n",
       "      <td>Lasso</td>\n",
       "      <td>0.900211</td>\n",
       "      <td>0.736864</td>\n",
       "    </tr>\n",
       "    <tr>\n",
       "      <th>LinearSVM</th>\n",
       "      <td>{'C': 4}</td>\n",
       "      <td>LinearSVM</td>\n",
       "      <td>0.804762</td>\n",
       "      <td>0.681199</td>\n",
       "    </tr>\n",
       "    <tr>\n",
       "      <th>Ridge</th>\n",
       "      <td>{'alpha': 0.00010000000000000002}</td>\n",
       "      <td>Ridge</td>\n",
       "      <td>0.72533</td>\n",
       "      <td>0.762105</td>\n",
       "    </tr>\n",
       "  </tbody>\n",
       "</table>\n",
       "</div>"
      ],
      "text/plain": [
       "                              model_best_params    model_name  \\\n",
       "DecisionTree                   {'max_depth': 5}  DecisionTree   \n",
       "KNN                          {'n_neighbors': 5}           KNN   \n",
       "Lasso                            {'alpha': 141}         Lasso   \n",
       "LinearSVM                              {'C': 4}     LinearSVM   \n",
       "Ridge         {'alpha': 0.00010000000000000002}         Ridge   \n",
       "\n",
       "             model_test_score model_train_score  \n",
       "DecisionTree         0.793846          0.650096  \n",
       "KNN                  0.702551          0.627463  \n",
       "Lasso                0.900211          0.736864  \n",
       "LinearSVM            0.804762          0.681199  \n",
       "Ridge                 0.72533          0.762105  "
      ]
     },
     "execution_count": 7,
     "metadata": {},
     "output_type": "execute_result"
    }
   ],
   "source": [
    "test_results = pd.DataFrame(test_results).T\n",
    "test_results"
   ]
  }
 ],
 "metadata": {
  "kernelspec": {
   "display_name": "Python [conda env:xgboost]",
   "language": "python",
   "name": "conda-env-xgboost-py"
  },
  "language_info": {
   "codemirror_mode": {
    "name": "ipython",
    "version": 3
   },
   "file_extension": ".py",
   "mimetype": "text/x-python",
   "name": "python",
   "nbconvert_exporter": "python",
   "pygments_lexer": "ipython3",
   "version": "3.6.4"
  }
 },
 "nbformat": 4,
 "nbformat_minor": 2
}
